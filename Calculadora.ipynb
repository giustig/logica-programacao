{
  "nbformat": 4,
  "nbformat_minor": 0,
  "metadata": {
    "colab": {
      "provenance": []
    },
    "kernelspec": {
      "name": "python3",
      "display_name": "Python 3"
    },
    "language_info": {
      "name": "python"
    }
  },
  "cells": [
    {
      "cell_type": "code",
      "execution_count": null,
      "metadata": {
        "colab": {
          "base_uri": "https://localhost:8080/"
        },
        "id": "tumpcssBrp0N",
        "outputId": "0c36bedd-b8df-4a5d-95fe-5f7c32e3c044"
      },
      "outputs": [
        {
          "name": "stdout",
          "output_type": "stream",
          "text": [
            "Digite o número: 5\n",
            "Digite outro número: 2\n",
            "------------------------------\n",
            "         CALCULADORA          \n",
            "------------------------------\n",
            "          OPERAÇÕES           \n",
            "~~~~~~~~~~~~~~~~~~~~~~~~~~~~~~\n",
            "1 - Adição\n",
            "2 - Subtração\n",
            "3 - Multiplicação\n",
            "4 - Divisão\n",
            "~~~~~~~~~~~~~~~~~~~~~~~~~~~~~~\n",
            "Qual o código da operação que você deseja realizar? er\n",
            "\u001b[0;31mDigite um número válido!\u001b[m\n",
            "Qual o código da operação que você deseja realizar? 5\n",
            "\u001b[0;31mDigite apenas opções válidas!\u001b[m\n",
            "Qual o código da operação que você deseja realizar? 6\n",
            "\u001b[0;31mDigite apenas opções válidas!\u001b[m\n",
            "Qual o código da operação que você deseja realizar? 3\n",
            "O resultado da multiplicação de 5.0 por 2.0 é 10.0\n",
            "Deseja realizar outra operação com os mesmos números? [S/N]: s\n"
          ]
        }
      ],
      "source": [
        "while True:\n",
        "    num1 = float(input('Digite o número: '))\n",
        "    num2 = float(input('Digite outro número: '))\n",
        "    print('-'*30)\n",
        "    print('CALCULADORA'.center(30))\n",
        "    print('-'*30)\n",
        "    print('OPERAÇÕES'.center(30))\n",
        "    print('~'*30)\n",
        "    print('''1 - Adição\\n2 - Subtração\\n3 - Multiplicação\\n4 - Divisão''')\n",
        "    print('~'*30)\n",
        "    while True:\n",
        "        while True:\n",
        "            try:\n",
        "              op = int(input('Qual o código da operação que você deseja realizar? '))\n",
        "              if not 1 <= op <= 4:\n",
        "                print('Digite apenas opções válidas!')\n",
        "              else:\n",
        "                  break\n",
        "            except (ValueError, TypeError):\n",
        "                print('Digite um número válido!')\n",
        "\n",
        "        if op == 1:\n",
        "            print(f'O resultado da soma de {num1} e {num2} é {num1+num2}')\n",
        "        elif op == 2:\n",
        "            print(f'O resultado da subtração de {num1} por {num2} é {num1-num2}')\n",
        "        elif op == 3:\n",
        "            print(f'O resultado da multiplicação de {num1} por {num2} é {num1*num2}')\n",
        "        else:\n",
        "            print(f'O resultado da divisão de {num1} e {num2} é {num1/num2}')\n",
        "        dnv = input('Deseja realizar outra operação com os mesmos números? [S/N]: ').strip()\n",
        "        if dnv in 'Nn':\n",
        "            break\n",
        "    resp = input('Deseja realizar outra operação? [S/N]: \\n').strip()\n",
        "    if resp in 'Nn':\n",
        "        break"
      ]
    }
  ]
}